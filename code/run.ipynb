{
 "cells": [
  {
   "cell_type": "markdown",
   "metadata": {
    "id": "VfAnAgwBp5fA"
   },
   "source": [
    "# Turotial \n",
    "\n",
    "- This notebook show the step and command to run the model 1, model 2 and duplication to predict the builidng instance, builidng type and count the builidgn nubmer. The final results are saved at `./result`\n",
    "- This notebook runs on Colab, and this project need use GPU\n",
    "- Click `Runtime` -> `change runtime type`-> `select GPU` to open GPU\n",
    "- Click `Runtime` -> `Run all` to get the model's result\n",
    "\n",
    "\n",
    "\n"
   ]
  },
  {
   "cell_type": "markdown",
   "metadata": {
    "id": "BnLRh-1JqQQk"
   },
   "source": [
    "## Download the model repository"
   ]
  },
  {
   "cell_type": "markdown",
   "metadata": {},
   "source": [
    "- Move to this project folder and rename this folder to `/content/project`"
   ]
  },
  {
   "cell_type": "code",
   "execution_count": 1,
   "metadata": {
    "id": "vSJh0J3uXep3"
   },
   "outputs": [
    {
     "name": "stdout",
     "output_type": "stream",
     "text": [
      "fatal: could not create leading directories of '/content/project': Read-only file system\r\n"
     ]
    }
   ],
   "source": [
    "# if this github link is not avaiale, please use your own github repo\n",
    "! git clone https://github.com/luoyaxiong/final.git /content/project"
   ]
  },
  {
   "cell_type": "code",
   "execution_count": 2,
   "metadata": {
    "id": "kXehVmr6ZEA_"
   },
   "outputs": [
    {
     "ename": "FileNotFoundError",
     "evalue": "[Errno 2] No such file or directory: '/content/project/code'",
     "output_type": "error",
     "traceback": [
      "\u001b[0;31m---------------------------------------------------------------------------\u001b[0m",
      "\u001b[0;31mFileNotFoundError\u001b[0m                         Traceback (most recent call last)",
      "\u001b[0;32m<ipython-input-2-5f06c3ed580f>\u001b[0m in \u001b[0;36m<module>\u001b[0;34m\u001b[0m\n\u001b[1;32m      1\u001b[0m \u001b[0;32mimport\u001b[0m \u001b[0mos\u001b[0m\u001b[0;34m\u001b[0m\u001b[0;34m\u001b[0m\u001b[0m\n\u001b[0;32m----> 2\u001b[0;31m \u001b[0mos\u001b[0m\u001b[0;34m.\u001b[0m\u001b[0mchdir\u001b[0m\u001b[0;34m(\u001b[0m\u001b[0;34m'/content/project/code'\u001b[0m\u001b[0;34m)\u001b[0m \u001b[0;31m# move to project/code/ folder\u001b[0m\u001b[0;34m\u001b[0m\u001b[0;34m\u001b[0m\u001b[0m\n\u001b[0m",
      "\u001b[0;31mFileNotFoundError\u001b[0m: [Errno 2] No such file or directory: '/content/project/code'"
     ]
    }
   ],
   "source": [
    "import os\n",
    "os.chdir('/content/project/code') # move to project/code/ folder"
   ]
  },
  {
   "cell_type": "code",
   "execution_count": null,
   "metadata": {
    "id": "xA6vAFL4p7vm"
   },
   "outputs": [],
   "source": [
    "! chmod u+x './run.sh'"
   ]
  },
  {
   "cell_type": "markdown",
   "metadata": {
    "id": "N0mprFI9pGFw"
   },
   "source": [
    "## Install Dependencies"
   ]
  },
  {
   "cell_type": "code",
   "execution_count": null,
   "metadata": {
    "id": "UXA7pGGDQ8_l"
   },
   "outputs": [],
   "source": [
    "! ./run.sh"
   ]
  },
  {
   "cell_type": "markdown",
   "metadata": {
    "id": "8-sizBcXqX04"
   },
   "source": [
    "## Data preparation"
   ]
  },
  {
   "cell_type": "code",
   "execution_count": null,
   "metadata": {
    "id": "bLN7UzhrZVdn"
   },
   "outputs": [],
   "source": [
    "# !python create_segment_data.py --segments_info_path ./data/original_data/segments_info.csv \\\n",
    "#                                   --streams_dir ./data/original_data \\\n",
    "#                                   --segment_image_path ./data/segments \\\n",
    "#                                   --id_segments '16878,16888'"
   ]
  },
  {
   "cell_type": "markdown",
   "metadata": {
    "id": "aMfRhRX8pLYu"
   },
   "source": [
    "## Model 1\n",
    "Result is saved at `./result/model1`"
   ]
  },
  {
   "cell_type": "code",
   "execution_count": null,
   "metadata": {
    "id": "AUZVkobIZj1h"
   },
   "outputs": [],
   "source": [
    "! python model1.py  --weight_path ./data/model_weight/model1_weight.pth \\\n",
    "                    --data_path ./data/training_data/model1 \\\n",
    "                    --segment_image_path ./data/segments \\\n",
    "                    --id_segments '16878,16888' \\\n",
    "                    --result_path ./result/model1"
   ]
  },
  {
   "cell_type": "markdown",
   "metadata": {
    "id": "Ojuotp_NpTNt"
   },
   "source": [
    "## Model 2\n",
    "- Result is saved at ./result/model2"
   ]
  },
  {
   "cell_type": "code",
   "execution_count": null,
   "metadata": {
    "id": "YfaYb0iZZv0i"
   },
   "outputs": [],
   "source": [
    "! python model2.py  --weight_path ./data/model_weight/model2_weight.pth \\\n",
    "                    --data_path ./data/training_data/model2 \\\n",
    "                    --segment_image_path ./data/segments \\\n",
    "                    --id_segments '16878,16888'\\\n",
    "                    --result_path ./result/model2"
   ]
  },
  {
   "cell_type": "markdown",
   "metadata": {
    "id": "N8OEOsHtpaSS"
   },
   "source": [
    "## Duplicatoion detection model\n",
    "- Result is saved at ./result/duplication"
   ]
  },
  {
   "cell_type": "code",
   "execution_count": null,
   "metadata": {
    "id": "tOqHfT0xZ-1U"
   },
   "outputs": [],
   "source": [
    "! python duplication.py --weight_path ./data/affnet_weight \\\n",
    "                        --segment_cropped_image_path ./result/model1/crop_imgs \\\n",
    "                        --id_segments '16878,16888' \\\n",
    "                        --result_path ./result/duplication \\\n",
    "                        --model1_open_info_folder ./result/model1/open_info \\\n",
    "                        --model2_building_info_folder ./result/model2/building_info"
   ]
  },
  {
   "cell_type": "markdown",
   "metadata": {
    "id": "7zfV2PcmpeYH"
   },
   "source": [
    "## Download the final result\n",
    "- All the results are saved at `./result`"
   ]
  },
  {
   "cell_type": "code",
   "execution_count": null,
   "metadata": {
    "id": "IIJZHMHlolob"
   },
   "outputs": [],
   "source": [
    "!zip -r /content/project/result.zip /content/project/code/result # zip the result folder"
   ]
  },
  {
   "cell_type": "code",
   "execution_count": null,
   "metadata": {
    "id": "Kn10lQ6Foi3Z"
   },
   "outputs": [],
   "source": [
    "from google.colab import files\n",
    "files.download(\"/content/project/result.zip\") "
   ]
  }
 ],
 "metadata": {
  "accelerator": "GPU",
  "colab": {
   "collapsed_sections": [],
   "machine_shape": "hm",
   "name": "Copy of run.ipynb",
   "provenance": []
  },
  "hide_input": false,
  "interpreter": {
   "hash": "31f2aee4e71d21fbe5cf8b01ff0e069b9275f58929596ceb00d14d90e3e16cd6"
  },
  "kernelspec": {
   "display_name": "Python 3",
   "language": "python",
   "name": "python3"
  },
  "language_info": {
   "codemirror_mode": {
    "name": "ipython",
    "version": 3
   },
   "file_extension": ".py",
   "mimetype": "text/x-python",
   "name": "python",
   "nbconvert_exporter": "python",
   "pygments_lexer": "ipython3",
   "version": "3.7.9"
  }
 },
 "nbformat": 4,
 "nbformat_minor": 2
}
